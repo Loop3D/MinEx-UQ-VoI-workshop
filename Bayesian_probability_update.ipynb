{
 "cells": [
  {
   "cell_type": "markdown",
   "id": "3c411724-c0b2-4898-b437-ae9af095bcbe",
   "metadata": {},
   "source": [
    "Click here to <a href=\"https://colab.research.google.com/github/Loop3D/MinEx-UQ-VoI-workshop/blob/main/Bayesian_probability_update.ipynb\" target=\"_parent\"><img src=\"https://colab.research.google.com/assets/colab-badge.svg\" alt=\"Open In Colab\"/></a>\n",
    "\n",
    "# Bayesian probability update\n",
    "\n",
    "### From conditional probability\n",
    "\n",
    "Let us denote S as a scenario and E as an event. The probability that S is true given that E is true can be written as $$P(S|E) = P(S \\cap E) \\times P(E)$$\n",
    "\n",
    "Similarly, the probability that E is true given that S is true can be written as $$P(E|S) = P(E \\cap S) \\times P(S)$$\n",
    "\n",
    "Given that $$P(E \\cap S) = P(S \\cap E)$$\n",
    "\n",
    "### To $Bayes'$ formulation\n",
    "We get:\n",
    "$$P(S|E) = \\frac{P(E|S) \\times P(S)}{P(E)}$$\n"
   ]
  },
  {
   "cell_type": "code",
   "execution_count": null,
   "id": "dc420cb2-bc1d-4d90-a31e-b93cdbe41676",
   "metadata": {},
   "outputs": [],
   "source": [
    "import numpy as np"
   ]
  },
  {
   "cell_type": "markdown",
   "id": "c9f56838-86c8-413e-99d2-42e588809b4f",
   "metadata": {},
   "source": [
    "# Exercise\n",
    "\n",
    "Now, let us consider two plausible scenarios $S_1$ and $S_2$. <br>\n",
    "We denote by $E_m$ the event of a mineralization being observed in a new drillhole and by $E_b =E_m'$ the absence of mineralization in a new drillhole. <br>\n",
    "By definition, $P(E_m)+P(E_b)=1$, and we assume that $P(S_1)+P(S_2)=1$.\n",
    "\n",
    "One can note that $P(E_m) = P(E_m|S_1)*P(S_1) + P(E_m|S_2)*P(S_2) $\n",
    "\n",
    "Initially, $P(S_1) = P_0(S_1) = 0.3$ and $P(S_2) = P_0(S_2) = 0.7$. ($P_0$ for 0 observation)<br>\n",
    "Given $S_1$ is correct, the probability to observe $E_m$ is defined as $P(E_m|S_1)=0.5$. <br>\n",
    "Given $S_2$ is correct, the probability to observe $E_m$ is defined as $P(E_m|S_2)=0.1$. <br>\n",
    "\n",
    "Now given a first observation, we try to update the scenario probabilities $P(S_i) = P_1(S_i)$ for $i \\in\\{1,2\\}$.\n",
    "\n",
    "If we observe $E$, the updated scenario probability $P_1(S_i)$ for $i \\in\\{1,2\\}$ is computed as $ P_1(S_i) = P(S_i|E)$, which we can develop using $Bayes'$ formula:\n",
    "$$ P_1(S_i) = P(S_i|E) = \\frac{P(E|S_i) \\times P_0(S_i)}{P(E)} $$\n",
    "\n",
    "And as $P(E) = \\sum_{j=1}^2 P(E|S_j) \\times P(S_j) $\n",
    "\n",
    "We can write \n",
    "$$ P_1(S_i) = \\frac{P(E|S_i) \\times P_0(S_i)}{\\sum_{j=1}^2 P(E|S_j) \\times P_0(S_j)} $$\n",
    "\n",
    "### Define variables and parameters"
   ]
  },
  {
   "cell_type": "code",
   "execution_count": null,
   "id": "498f18d2-9262-417f-aa64-3a819b97da88",
   "metadata": {},
   "outputs": [],
   "source": [
    "P0_S1 = 0.3 # Assumption 1 initial probability\n",
    "P0_S2 = 0.7 # Assumption 2 initial probability\n",
    "\n",
    "P_Em_given_S1 = 0.5 # Probability to observe Em if S1 is correct \n",
    "P_Eb_given_S1 = 1-P_Em_given_S1 # Probability to observe Obs2 if S1 is correct\n",
    "\n",
    "P_Em_given_S2 = 0.1 # Probability to observe Em if S2 is correct\n",
    "P_Eb_given_S2 = 1-P_Em_given_S2 # Probability to observe Eb if S2 is correct"
   ]
  },
  {
   "cell_type": "markdown",
   "id": "8c51df19-3efc-4bcb-b839-11ceff0c6a43",
   "metadata": {},
   "source": [
    "### Total probability\n",
    "What are the total probabilities $P(E_m)$ and $P(E_b)$ ?"
   ]
  },
  {
   "cell_type": "code",
   "execution_count": null,
   "id": "d1cf1e0e-04e1-4212-9ac5-0b6bf951d8b1",
   "metadata": {},
   "outputs": [],
   "source": []
  },
  {
   "cell_type": "code",
   "execution_count": null,
   "id": "45ff7913-14ee-4e10-a1ba-0bcc8f66580e",
   "metadata": {},
   "outputs": [],
   "source": []
  },
  {
   "cell_type": "markdown",
   "id": "cc524c78-27c1-478e-aaac-d381e5eee106",
   "metadata": {},
   "source": [
    "### First observation and update\n",
    "The first drillhole does not reveal mineralization. What is $P_1(S_i)$ for $i \\in\\{1,2\\}$?"
   ]
  },
  {
   "cell_type": "code",
   "execution_count": null,
   "id": "573171f9-06c6-4a7f-8a84-2170afc66634",
   "metadata": {},
   "outputs": [],
   "source": []
  },
  {
   "cell_type": "code",
   "execution_count": null,
   "id": "dceb0b69-19d8-45e4-8b71-90afa645d40f",
   "metadata": {},
   "outputs": [],
   "source": []
  },
  {
   "cell_type": "markdown",
   "id": "53b659f9-688f-4c16-8c98-f637f4f02501",
   "metadata": {},
   "source": [
    "### Second observation and update\n",
    "The Second drillhole does not reveal  mineralization. What is $P_2(S_i)$ for $i \\in\\{1,2\\}$?"
   ]
  },
  {
   "cell_type": "code",
   "execution_count": null,
   "id": "45b92783-1fc2-4784-a4ef-b2d8865fc284",
   "metadata": {},
   "outputs": [],
   "source": []
  },
  {
   "cell_type": "code",
   "execution_count": null,
   "id": "7c0146a8-f87a-4698-a3f0-e46465c128fc",
   "metadata": {},
   "outputs": [],
   "source": []
  },
  {
   "cell_type": "markdown",
   "id": "acadcf2e-f184-40a0-989b-74ac0837f980",
   "metadata": {},
   "source": [
    "### Second observation and update\n",
    "The Third drillhole indicate mineralization. What is $P_3(S_i)$ for $i \\in\\{1,2\\}$?"
   ]
  },
  {
   "cell_type": "code",
   "execution_count": null,
   "id": "6a99200c-4544-4b8b-98cb-ebef1dfecd0d",
   "metadata": {},
   "outputs": [],
   "source": []
  },
  {
   "cell_type": "code",
   "execution_count": null,
   "id": "581a280a-97fb-479f-9b6f-542b2be3a34e",
   "metadata": {},
   "outputs": [],
   "source": []
  },
  {
   "cell_type": "code",
   "execution_count": null,
   "id": "834a45a1-3104-425c-9d7f-7545775144a1",
   "metadata": {},
   "outputs": [],
   "source": []
  }
 ],
 "metadata": {
  "kernelspec": {
   "display_name": "Python 3 (ipykernel)",
   "language": "python",
   "name": "python3"
  },
  "language_info": {
   "codemirror_mode": {
    "name": "ipython",
    "version": 3
   },
   "file_extension": ".py",
   "mimetype": "text/x-python",
   "name": "python",
   "nbconvert_exporter": "python",
   "pygments_lexer": "ipython3",
   "version": "3.9.19"
  }
 },
 "nbformat": 4,
 "nbformat_minor": 5
}
